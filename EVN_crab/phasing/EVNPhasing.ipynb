{
 "cells": [
  {
   "cell_type": "code",
   "execution_count": 1,
   "metadata": {
    "collapsed": true
   },
   "outputs": [],
   "source": [
    "import numpy as np\n",
    "import matplotlib.pylab as plt\n",
    "from astropy.time import Time\n",
    "from pulsar.predictor import Polyco\n",
    "\n",
    "from baseband import mark5b\n",
    "from baseband import vdif\n",
    "import astropy.units as u\n",
    "from pulsar.predictor import Polyco\n",
    "\n",
    "%matplotlib inline"
   ]
  },
  {
   "cell_type": "code",
   "execution_count": 2,
   "metadata": {
    "collapsed": true
   },
   "outputs": [],
   "source": [
    "def phase(x, m, b):\n",
    "    return (m*x+b) % (2*np.pi) - np.pi\n",
    "\n",
    "def lsq(data, model):\n",
    "    return np.median((data - model)**2.0)\n",
    "\n",
    "def rechannelize(pulse, nchan):\n",
    "    pulse = np.fft.irfft(pulse, axis=1)\n",
    "    # Reshape to channels and keep polarization\n",
    "    \n",
    "    if len(pulse.shape) == 3:\n",
    "        pulse = pulse.reshape(-1, 2*nchan, pulse.shape[-1])\n",
    "    else:\n",
    "        pulse = pulse.reshape(-1, 2*nchan)\n",
    "    pulse = np.fft.rfft(pulse, axis=1)\n",
    "    return pulse\n",
    "\n",
    "def dechannelize(pulse):\n",
    "    pulse = np.fft.irfft(pulse, axis=1)\n",
    "    if len(pulse.shape) == 3:\n",
    "        pulse = pulse.reshape(-1, pulse.shape[-1])\n",
    "    else:\n",
    "        pulse = pulse.ravel()\n",
    "    return pulse\n",
    "\n",
    "def channelize_ts(pulse, nchan):\n",
    "    if len(pulse.shape) == 2:\n",
    "        pulse = pulse.reshape(-1, 2*nchan, pulse.shape[-1])\n",
    "    else:\n",
    "        pulse = pulse.reshape(-1, 2*nchan)\n",
    "    pulse = np.fft.rfft(pulse, axis=1)\n",
    "    return pulse\n",
    "\n",
    "def correlate(p1, p2, cchan, fchan):\n",
    "    p1fine = rechannelize(p1, fchan)\n",
    "    p2fine = rechannelize(p2, fchan)\n",
    "    p12_phased = (p1fine / abs(p1fine)) * (abs(p2fine) / p2fine)\n",
    "    p12_phased = rechannelize(p12_phased, cchan)\n",
    "    return p12_phased\n",
    "\n",
    "def correlate_power(p1, p2, cchan, fchan):\n",
    "    p1fine = rechannelize(p1, fchan)\n",
    "    p2fine = rechannelize(p2, fchan)\n",
    "    p12_phased = (p1fine) * (abs(p2fine) / p2fine)\n",
    "    p12_phased = rechannelize(p12_phased, cchan)\n",
    "    return p12_phased\n",
    "\n",
    "def power(dchan):\n",
    "    dR = np.concatenate((dchan[:,::-1,8], dchan[...,0], dchan[:,::-1,10], dchan[...,2], dchan[:,::-1,12], dchan[...,4], dchan[:,::-1,14], dchan[...,6]), axis=1)\n",
    "    dL = np.concatenate((dchan[:,::-1,9], dchan[...,1], dchan[:,::-1,11], dchan[...,3], dchan[:,::-1,13], dchan[...,5], dchan[:,::-1,15], dchan[...,7]), axis=1)\n",
    "    power = (abs(dR)**2 + abs(dL)**2)\n",
    "    return power\n",
    "\n",
    "def stitch(dchan):\n",
    "    dR = np.concatenate((dchan[:,::-1,8][:,:-1], dchan[:,:-1,0], dchan[:,::-1,10][:,:-1], dchan[:,:-1,2], \n",
    "                         dchan[:,::-1,12][:,:-1], dchan[:,:-1,4], dchan[:,::-1,14][:,:-1], dchan[:,:-1,6]), axis=1)\n",
    "    dL = np.concatenate((dchan[:,::-1,9], dchan[:,:,1], dchan[:,::-1,11], dchan[:,:,3], \n",
    "                         dchan[:,::-1,13], dchan[:,:,5], dchan[:,::-1,15], dchan[:,:,7]), axis=1)\n",
    "    return dR, dL\n",
    "    \n",
    "def powerchan(dchan):\n",
    "    R = np.array([8,0,10,2,12,4,14,6])\n",
    "    L = np.array([9,1,11,2,13,5,15,7])\n",
    "    dR = dchan[...,R]\n",
    "    dL = dchan[...,L]\n",
    "    power = abs(dR)**2.0 + abs(dL)**2.0\n",
    "    return power\n",
    "\n",
    "def normpower(pulse):\n",
    "    p1temp = rechannelize(pulse, 256)\n",
    "    power1 = abs(p1temp)**2.0\n",
    "    power1 = power1[16] - power1[2:12].mean(axis=0)\n",
    "    power1 = power1[32:-32]\n",
    "    power1 = (power1 - power1.mean(axis=0)) / power1.std(axis=0)\n",
    "    return power1\n",
    "    "
   ]
  },
  {
   "cell_type": "code",
   "execution_count": 38,
   "metadata": {
    "collapsed": false
   },
   "outputs": [
    {
     "data": {
      "text/plain": [
       "[<matplotlib.lines.Line2D at 0x7f1ca9fbfc10>]"
      ]
     },
     "execution_count": 38,
     "metadata": {},
     "output_type": "execute_result"
    },
    {
     "data": {
      "image/png": "[encoded data removed]",
      "text/plain": [
       "<matplotlib.figure.Figure at 0x7f1caa0d0f10>"
      ]
     },
     "metadata": {},
     "output_type": "display_data"
    }
   ],
   "source": [
    "%matplotlib inline\n",
    "t_gp = '2015-10-19T00:17:47.415'\n",
    "#t_gp = '2015-10-18T23:41:53.277'\n",
    "#t_gp = '2015-10-18T23:39:46.844'\n",
    "#t_gp = '2015-10-19T00:54:59.880'\n",
    "\n",
    "p1 = np.load('GPjb/p%s.npy' % (t_gp))\n",
    "p2 = np.load('GPsv/p%s.npy' % (t_gp))\n",
    "\n",
    "m = np.mean(abs(p1).sum(-1).sum(-1)[:26])\n",
    "\n",
    "plt.plot(abs(p1).sum(-1).sum(-1))\n",
    "plt.plot(abs(p2).sum(-1).sum(-1))"
   ]
  },
  {
   "cell_type": "code",
   "execution_count": 39,
   "metadata": {
    "collapsed": false
   },
   "outputs": [
    {
     "data": {
      "text/plain": [
       "[<matplotlib.lines.Line2D at 0x7f1ca9999e10>]"
      ]
     },
     "execution_count": 39,
     "metadata": {},
     "output_type": "execute_result"
    },
    {
     "data": {
      "image/png": "[encoded data removed]",
      "text/plain": [
       "<matplotlib.figure.Figure at 0x7f1ca9aaf710>"
      ]
     },
     "metadata": {},
     "output_type": "display_data"
    }
   ],
   "source": [
    "\"\"\"\n",
    "Shift timestreams to closest sample\n",
    "\n",
    "De-channelize, fit for corr peak, then shift\n",
    "\"\"\"\n",
    "%matplotlib inline\n",
    "\n",
    "nchan = 32\n",
    "\n",
    "p1d = dechannelize(p1)\n",
    "p2d = dechannelize(p2)\n",
    "\n",
    "ftcorr = (np.fft.rfft(p1d,axis=0) * np.conj(np.fft.rfft(p2d, axis=0)))\n",
    "#pad = np.zeros_like(ftcorr)\n",
    "#ftcorr = np.concatenate((ftcorr,pad))\n",
    "#pad = np.zeros_like(ftcorr)\n",
    "#ftcorr = np.concatenate((ftcorr,pad))\n",
    "#pad = np.zeros_like(ftcorr)\n",
    "#ftcorr = np.concatenate((ftcorr,pad))\n",
    "\n",
    "corr = np.fft.irfft(ftcorr, axis=0)\n",
    "sampdelay = np.argmax(abs(corr).sum(-1))\n",
    "p2d = np.roll(p2d, sampdelay, axis=0)\n",
    "\n",
    "p2 = channelize_ts(p2d, nchan)\n",
    "p1 = rechannelize(p1, nchan)\n",
    "\n",
    "#plt.plot(abs(p1).sum(-1).sum(-1))\n",
    "#plt.plot(abs(p2).sum(-1).sum(-1))\n",
    "plt.plot(abs(corr).sum(-1))"
   ]
  },
  {
   "cell_type": "code",
   "execution_count": 40,
   "metadata": {
    "collapsed": false
   },
   "outputs": [
    {
     "name": "stdout",
     "output_type": "stream",
     "text": [
      "-0.144802867801 0.951997773815\n"
     ]
    },
    {
     "data": {
      "text/plain": [
       "(-6.283185307179586, 6.283185307179586)"
      ]
     },
     "execution_count": 40,
     "metadata": {},
     "output_type": "execute_result"
    },
    {
     "data": {
      "image/png": "[encoded data removed]",
      "text/plain": [
       "<matplotlib.figure.Figure at 0x7f1ca9d4ec10>"
      ]
     },
     "metadata": {},
     "output_type": "display_data"
    }
   ],
   "source": [
    "\"\"\"\n",
    "Do a quick grid search of the best fit parameters\n",
    "\n",
    "Uses the median of deviations to minimize, less sensitive to ~2pi wrapping outliers\n",
    "\"\"\"\n",
    "\n",
    "p1R, p1L = stitch(p1)\n",
    "p2R, p2L = stitch(p2)\n",
    "\n",
    "mask = np.linspace(0,8,8)*nchan\n",
    "\n",
    "corr = np.fft.ifft( (np.fft.fft(p1R,axis=0) * np.conj(np.fft.fft(p2R, axis=0))), axis=0)\n",
    "\n",
    "#data = np.angle(corr[0,3:-3, 2])\n",
    "data = np.angle(corr[0])\n",
    "data[0:nchan] = np.angle(np.conj(corr[0,:nchan]))\n",
    "data[2*nchan:3*nchan] = np.angle(np.conj(corr[0,2*nchan:3*nchan]))\n",
    "data[4*nchan:5*nchan] = np.angle(np.conj(corr[0,4*nchan:5*nchan]))\n",
    "data[6*nchan:7*nchan] = np.angle(np.conj(corr[0,6*nchan:7*nchan]))\n",
    "\n",
    "brange = np.linspace(0,2*np.pi,100)\n",
    "mrange = np.linspace(-np.pi,np.pi,500)\n",
    "x = np.linspace(0,len(data), len(data))\n",
    "\n",
    "#data = np.delete(data, mask)\n",
    "#x = np.delete(x, mask)\n",
    "\n",
    "minfit = 1e10\n",
    "for b in brange:\n",
    "    for m in mrange:\n",
    "        model = phase(x, m, b)\n",
    "        mintemp = lsq(data, model)\n",
    "        if mintemp < minfit:\n",
    "            minfit = mintemp\n",
    "            mbest = m\n",
    "            bbest = b\n",
    "            \n",
    "print mbest, bbest\n",
    "\n",
    "plt.subplot(211)\n",
    "plt.plot(x, data, 'bx')\n",
    "plt.plot(x, phase(x, mbest, bbest), 'r')\n",
    "\n",
    "plt.subplot(212)\n",
    "plt.plot(x, data-phase(x,mbest,bbest), 'kx')\n",
    "plt.plot(x,0*x, 'r--')\n",
    "plt.ylim(-2*np.pi, 2*np.pi)"
   ]
  },
  {
   "cell_type": "code",
   "execution_count": 41,
   "metadata": {
    "collapsed": false
   },
   "outputs": [
    {
     "data": {
      "text/plain": [
       "(120, 180)"
      ]
     },
     "execution_count": 41,
     "metadata": {},
     "output_type": "execute_result"
    },
    {
     "data": {
      "image/png": "[encoded data removed]",
      "text/plain": [
       "<matplotlib.figure.Figure at 0x7f1ca9cbe610>"
      ]
     },
     "metadata": {},
     "output_type": "display_data"
    }
   ],
   "source": [
    "\"\"\"\n",
    "Correct conjugates and sum incoherently\n",
    "\"\"\"\n",
    "\n",
    "pmodel = phase(x,mbest,bbest)\n",
    "pmodel[0:nchan] *= -1\n",
    "pmodel[2*nchan:3*nchan] *= -1\n",
    "pmodel[4*nchan:5*nchan] *= -1\n",
    "pmodel[6*nchan:7*nchan] *= -1\n",
    "\n",
    "p2derot = p2R*np.exp(1j*pmodel)[np.newaxis,...]\n",
    "\n",
    "pRsum = abs(p1R + p2derot)**2.0\n",
    "pincoh = abs(p1R)**2.0 + abs(p2R)**2.0\n",
    "\n",
    "plt.plot(pRsum.sum(-1))\n",
    "plt.plot(pincoh.sum(-1))\n",
    "\n",
    "plt.xlim(120,180)"
   ]
  },
  {
   "cell_type": "code",
   "execution_count": 42,
   "metadata": {
    "collapsed": false
   },
   "outputs": [
    {
     "name": "stdout",
     "output_type": "stream",
     "text": [
      "0.0692535454699 3.10985939446\n"
     ]
    },
    {
     "data": {
      "text/plain": [
       "(-6.283185307179586, 6.283185307179586)"
      ]
     },
     "execution_count": 42,
     "metadata": {},
     "output_type": "execute_result"
    },
    {
     "data": {
      "image/png": "[encoded data removed]",
      "text/plain": [
       "<matplotlib.figure.Figure at 0x7f1ca9cff610>"
      ]
     },
     "metadata": {},
     "output_type": "display_data"
    }
   ],
   "source": [
    "\"\"\"\n",
    "Do a quick grid search of the best fit parameters\n",
    "\n",
    "Uses the median of deviations to minimize, less sensitive to ~2pi wrapping outliers\n",
    "\"\"\"\n",
    "\n",
    "p1R, p1L = stitch(p1)\n",
    "p2R, p2L = stitch(p2)\n",
    "\n",
    "mask = np.linspace(0,8,8)*nchan\n",
    "\n",
    "corr = np.fft.ifft( (np.fft.fft(p1L,axis=0) * np.conj(np.fft.fft(p2L, axis=0))), axis=0)\n",
    "\n",
    "#data = np.angle(corr[0,3:-3, 2])\n",
    "data = np.angle(corr[0])\n",
    "data[0:nchan] = np.angle(np.conj(corr[0,:nchan]))\n",
    "data[2*nchan:3*nchan] = np.angle(np.conj(corr[0,2*nchan:3*nchan]))\n",
    "data[4*nchan:5*nchan] = np.angle(np.conj(corr[0,4*nchan:5*nchan]))\n",
    "data[6*nchan:7*nchan] = np.angle(np.conj(corr[0,6*nchan:7*nchan]))\n",
    "\n",
    "brange = np.linspace(0,2*np.pi,100)\n",
    "mrange = np.linspace(-np.pi,np.pi,500)\n",
    "x = np.linspace(0,len(data), len(data))\n",
    "\n",
    "#data = np.delete(data, mask)\n",
    "#x = np.delete(x, mask)\n",
    "\n",
    "minfit = 1e10\n",
    "for b in brange:\n",
    "    for m in mrange:\n",
    "        model = phase(x, m, b)\n",
    "        mintemp = lsq(data, model)\n",
    "        if mintemp < minfit:\n",
    "            minfit = mintemp\n",
    "            mbest = m\n",
    "            bbest = b\n",
    "            \n",
    "print mbest, bbest\n",
    "\n",
    "plt.subplot(211)\n",
    "plt.plot(x, data, 'bx')\n",
    "plt.plot(x, phase(x, mbest, bbest), 'r')\n",
    "\n",
    "plt.subplot(212)\n",
    "plt.plot(x, data-phase(x,mbest,bbest), 'kx')\n",
    "plt.plot(x,0*x, 'r--')\n",
    "plt.ylim(-2*np.pi, 2*np.pi)"
   ]
  },
  {
   "cell_type": "code",
   "execution_count": 25,
   "metadata": {
    "collapsed": false
   },
   "outputs": [
    {
     "data": {
      "text/plain": [
       "(120, 180)"
      ]
     },
     "execution_count": 25,
     "metadata": {},
     "output_type": "execute_result"
    },
    {
     "data": {
      "image/png": "[encoded data removed]",
      "text/plain": [
       "<matplotlib.figure.Figure at 0x7f1caa048f90>"
      ]
     },
     "metadata": {},
     "output_type": "display_data"
    }
   ],
   "source": [
    "pmodel = phase(x,mbest,bbest)\n",
    "pmodel[0:nchan] *= -1\n",
    "pmodel[2*nchan:3*nchan] *= -1\n",
    "pmodel[4*nchan:5*nchan] *= -1\n",
    "pmodel[6*nchan:7*nchan] *= -1\n",
    "\n",
    "p2derot = p2L*np.exp(1j*pmodel)[np.newaxis,...]\n",
    "\n",
    "pLsum = abs(p1L + p2derot)**2.0\n",
    "pincoh = abs(p1L)**2.0 + abs(p2L)**2.0\n",
    "\n",
    "plt.plot(pLsum.sum(-1))\n",
    "plt.plot(pincoh.sum(-1))\n",
    "\n",
    "plt.xlim(120,180)"
   ]
  },
  {
   "cell_type": "code",
   "execution_count": 43,
   "metadata": {
    "collapsed": true
   },
   "outputs": [],
   "source": [
    "\"\"\"\n",
    "Select telescope list, phase all pulses\n",
    "\"\"\"\n",
    "\n",
    "#t_gp = '2015-10-19T00:17:47.415'\n",
    "t_gp = '2015-10-19T00:54:59.880'\n",
    "\n",
    "tel1 = 'ef'\n",
    "#tels = ['sr']\n",
    "tels = ['jb','wb','hh','bd','sr', 'o8', 'mc', 'sv', 'zc', 'tr', 't6']\n",
    "p1 = np.load('GP%s/p%s.npy' % (tel1, t_gp))\n",
    "switch = 0\n",
    "\n",
    "for tel in tels:\n",
    "\n",
    "    p2 = np.load('GP%s/p%s.npy' % (tel, t_gp))\n",
    "    \n",
    "    \"\"\"\n",
    "    Shift timestreams to closest sample\n",
    "\n",
    "    De-channelize, fit for corr peak, then shift\n",
    "    \"\"\"\n",
    "\n",
    "    nchan = 32\n",
    "\n",
    "    p1d = dechannelize(p1)\n",
    "    p2d = dechannelize(p2)\n",
    "\n",
    "    corr = np.fft.irfft( (np.fft.rfft(p1d,axis=0) * np.conj(np.fft.rfft(p2d, axis=0))), axis=0)\n",
    "    sampdelay = np.argmax(abs(corr).sum(-1))\n",
    "    p2d = np.roll(p2d, sampdelay, axis=0)\n",
    "\n",
    "    p2 = channelize_ts(p2d, nchan)\n",
    "    p1 = rechannelize(p1, nchan)\n",
    "\n",
    "    \"\"\"\n",
    "    Do a quick grid search of the best fit parameters\n",
    "\n",
    "    Uses the median of deviations to minimize, less sensitive to ~2pi wrapping outliers\n",
    "    \"\"\"\n",
    "\n",
    "    p1R, p1L = stitch(p1)\n",
    "    p2R, p2L = stitch(p2)\n",
    "\n",
    "    if switch == 0:\n",
    "        pRsum = 1.*p1R\n",
    "        pincoh = abs(p1R)**2.0\n",
    "        switch = 1\n",
    "    \n",
    "    mask = np.linspace(0,8,8)*nchan\n",
    "\n",
    "    corr = np.fft.ifft( (np.fft.fft(p1R,axis=0) * np.conj(np.fft.fft(p2R, axis=0))), axis=0)\n",
    "\n",
    "    data = np.angle(corr[0])\n",
    "    data[0:nchan] = np.angle(np.conj(corr[0,:nchan]))\n",
    "    data[2*nchan:3*nchan] = np.angle(np.conj(corr[0,2*nchan:3*nchan]))\n",
    "    data[4*nchan:5*nchan] = np.angle(np.conj(corr[0,4*nchan:5*nchan]))\n",
    "    data[6*nchan:7*nchan] = np.angle(np.conj(corr[0,6*nchan:7*nchan]))\n",
    "\n",
    "    brange = np.linspace(0,2*np.pi,100)\n",
    "    mrange = np.linspace(-np.pi,np.pi,500)\n",
    "    x = np.linspace(0,len(data), len(data))\n",
    "\n",
    "    minfit = 1e10\n",
    "    for b in brange:\n",
    "        for m in mrange:\n",
    "            model = phase(x, m, b)\n",
    "            mintemp = lsq(data, model)\n",
    "            if mintemp < minfit:\n",
    "                minfit = mintemp\n",
    "                mbest = m\n",
    "                bbest = b\n",
    "\n",
    "    \"\"\"\n",
    "    Correct conjugates and sum incoherently\n",
    "    \"\"\"\n",
    "\n",
    "    pmodel = phase(x,mbest,bbest)\n",
    "    pmodel[0:nchan] *= -1\n",
    "    pmodel[2*nchan:3*nchan] *= -1\n",
    "    pmodel[4*nchan:5*nchan] *= -1\n",
    "    pmodel[6*nchan:7*nchan] *= -1\n",
    "\n",
    "    p2derot = p2R*np.exp(1j*pmodel)[np.newaxis,...]\n",
    "\n",
    "    pRsum += p2derot\n",
    "    pincoh += abs(p2R)**2.0"
   ]
  },
  {
   "cell_type": "code",
   "execution_count": 1,
   "metadata": {
    "collapsed": false
   },
   "outputs": [
    {
     "ename": "NameError",
     "evalue": "name 'np' is not defined",
     "output_type": "error",
     "traceback": [
      "\u001b[1;31m---------------------------------------------------------------------------\u001b[0m",
      "\u001b[1;31mNameError\u001b[0m                                 Traceback (most recent call last)",
      "\u001b[1;32m<ipython-input-1-fb10beedf7f1>\u001b[0m in \u001b[0;36m<module>\u001b[1;34m()\u001b[0m\n\u001b[0;32m     10\u001b[0m \u001b[1;31m#tels = ['jb','wb','hh','bd', 'sr', 'o8', 'mc', 'sv', 'zc']\u001b[0m\u001b[1;33m\u001b[0m\u001b[1;33m\u001b[0m\u001b[0m\n\u001b[0;32m     11\u001b[0m \u001b[0mtels\u001b[0m \u001b[1;33m=\u001b[0m \u001b[1;33m[\u001b[0m\u001b[1;34m'jb'\u001b[0m\u001b[1;33m,\u001b[0m\u001b[1;34m'wb'\u001b[0m\u001b[1;33m,\u001b[0m\u001b[1;34m'sr'\u001b[0m\u001b[1;33m]\u001b[0m\u001b[1;33m\u001b[0m\u001b[0m\n\u001b[1;32m---> 12\u001b[1;33m \u001b[0mp1\u001b[0m \u001b[1;33m=\u001b[0m \u001b[0mnp\u001b[0m\u001b[1;33m.\u001b[0m\u001b[0mload\u001b[0m\u001b[1;33m(\u001b[0m\u001b[1;34m'GP%s/p%s.npy'\u001b[0m \u001b[1;33m%\u001b[0m \u001b[1;33m(\u001b[0m\u001b[0mtel1\u001b[0m\u001b[1;33m,\u001b[0m \u001b[0mt_gp\u001b[0m\u001b[1;33m)\u001b[0m\u001b[1;33m)\u001b[0m\u001b[1;33m\u001b[0m\u001b[0m\n\u001b[0m\u001b[0;32m     13\u001b[0m \u001b[0mswitch\u001b[0m \u001b[1;33m=\u001b[0m \u001b[1;36m0\u001b[0m\u001b[1;33m\u001b[0m\u001b[0m\n\u001b[0;32m     14\u001b[0m \u001b[1;33m\u001b[0m\u001b[0m\n",
      "\u001b[1;31mNameError\u001b[0m: name 'np' is not defined"
     ]
    }
   ],
   "source": [
    "\"\"\"\n",
    "Select telescope list, phase all pulses\n",
    "\"\"\"\n",
    "\n",
    "#t_gp = '2015-10-19T00:17:47.415'\n",
    "t_gp = '2015-10-19T00:54:59.880'\n",
    "\n",
    "tel1 = 'ef'\n",
    "#tels = ['sr']\n",
    "#tels = ['jb','wb','hh','bd', 'sr', 'o8', 'mc', 'sv', 'zc']\n",
    "tels = ['jb','wb','sr']\n",
    "p1 = np.load('GP%s/p%s.npy' % (tel1, t_gp))\n",
    "switch = 0\n",
    "\n",
    "for tel in tels:\n",
    "\n",
    "    p2 = np.load('GP%s/p%s.npy' % (tel, t_gp))\n",
    "    \n",
    "    \"\"\"\n",
    "    Shift timestreams to closest sample\n",
    "\n",
    "    De-channelize, fit for corr peak, then shift\n",
    "    \"\"\"\n",
    "\n",
    "    nchan = 32\n",
    "\n",
    "    p1d = dechannelize(p1)\n",
    "    p2d = dechannelize(p2)\n",
    "\n",
    "    corr = np.fft.irfft( (np.fft.rfft(p1d,axis=0) * np.conj(np.fft.rfft(p2d, axis=0))), axis=0)\n",
    "    sampdelay = np.argmax(abs(corr).sum(-1))\n",
    "    p2d = np.roll(p2d, sampdelay, axis=0)\n",
    "\n",
    "    p2 = channelize_ts(p2d, nchan)\n",
    "    p1 = rechannelize(p1, nchan)\n",
    "\n",
    "    \"\"\"\n",
    "    Do a quick grid search of the best fit parameters\n",
    "\n",
    "    Uses the median of deviations to minimize, less sensitive to ~2pi wrapping outliers\n",
    "    \"\"\"\n",
    "\n",
    "    p1R, p1L = stitch(p1)\n",
    "    p2R, p2L = stitch(p2)\n",
    "\n",
    "    if switch == 0:\n",
    "        pLsum = 1.*p1L\n",
    "        pincoh = abs(p1L)**2.0\n",
    "        switch = 1\n",
    "    \n",
    "    mask = np.linspace(0,8,8)*nchan\n",
    "\n",
    "    corr = np.fft.ifft( (np.fft.fft(p1L,axis=0) * np.conj(np.fft.fft(p2L, axis=0))), axis=0)\n",
    "\n",
    "    data = np.angle(corr[0])\n",
    "    data[0:nchan] = np.angle(np.conj(corr[0,:nchan]))\n",
    "    data[2*nchan:3*nchan] = np.angle(np.conj(corr[0,2*nchan:3*nchan]))\n",
    "    data[4*nchan:5*nchan] = np.angle(np.conj(corr[0,4*nchan:5*nchan]))\n",
    "    data[6*nchan:7*nchan] = np.angle(np.conj(corr[0,6*nchan:7*nchan]))\n",
    "\n",
    "    brange = np.linspace(0,2*np.pi,100)\n",
    "    mrange = np.linspace(-np.pi,np.pi,500)\n",
    "    x = np.linspace(0,len(data), len(data))\n",
    "\n",
    "    minfit = 1e10\n",
    "    for b in brange:\n",
    "        for m in mrange:\n",
    "            model = phase(x, m, b)\n",
    "            mintemp = lsq(data, model)\n",
    "            if mintemp < minfit:\n",
    "                minfit = mintemp\n",
    "                mbest = m\n",
    "                bbest = b\n",
    "\n",
    "    \"\"\"\n",
    "    Correct conjugates and sum incoherently\n",
    "    \"\"\"\n",
    "\n",
    "    pmodel = phase(x,mbest,bbest)\n",
    "    pmodel[0:nchan] *= -1\n",
    "    pmodel[2*nchan:3*nchan] *= -1\n",
    "    pmodel[4*nchan:5*nchan] *= -1\n",
    "    pmodel[6*nchan:7*nchan] *= -1\n",
    "\n",
    "    p2derot = p2L*np.exp(1j*pmodel)[np.newaxis,...]\n",
    "\n",
    "    pLsum += p2derot\n",
    "    pincoh += abs(p2L)**2.0"
   ]
  },
  {
   "cell_type": "code",
   "execution_count": 51,
   "metadata": {
    "collapsed": false
   },
   "outputs": [
    {
     "data": {
      "text/plain": [
       "(120, 180)"
      ]
     },
     "execution_count": 51,
     "metadata": {},
     "output_type": "execute_result"
    },
    {
     "data": {
      "image/png": "[encoded data removed]",
      "text/plain": [
       "<matplotlib.figure.Figure at 0x7f1ca9992cd0>"
      ]
     },
     "metadata": {},
     "output_type": "display_data"
    }
   ],
   "source": [
    "%matplotlib qt\n",
    "plt.plot((abs(pRsum)**2.0).sum(-1))\n",
    "plt.plot(pincoh.sum(-1))\n",
    "\n",
    "plt.xlim(120,180)"
   ]
  },
  {
   "cell_type": "code",
   "execution_count": 50,
   "metadata": {
    "collapsed": false
   },
   "outputs": [
    {
     "name": "stdout",
     "output_type": "stream",
     "text": [
      "(256, 264)\n"
     ]
    },
    {
     "data": {
      "text/plain": [
       "[<matplotlib.lines.Line2D at 0x7f1c940a2e90>]"
      ]
     },
     "execution_count": 50,
     "metadata": {},
     "output_type": "execute_result"
    },
    {
     "data": {
      "image/png": "[encoded data removed]",
      "text/plain": [
       "<matplotlib.figure.Figure at 0x7f1c94103550>"
      ]
     },
     "metadata": {},
     "output_type": "display_data"
    }
   ],
   "source": [
    "print pRsum.shape\n",
    "\n",
    "test = np.delete(pLsum, np.linspace(0,8,8)*(nchan+1), axis=1)\n",
    "\n",
    "pfine = rechannelize(test, 256*8)\n",
    "\n",
    "%matplotlib qt\n",
    "plt.subplot(211)\n",
    "plt.plot((abs(pfine)**2.0).sum(-1))\n",
    "\n",
    "plt.subplot(212)\n",
    "plt.plot(abs(pfine[16])**2.0)\n",
    "plt.plot(abs(pfine[18])**2.0, 'r')"
   ]
  },
  {
   "cell_type": "code",
   "execution_count": 66,
   "metadata": {
    "collapsed": false
   },
   "outputs": [
    {
     "data": {
      "text/plain": [
       "[<matplotlib.lines.Line2D at 0x7f0e59dd6cd0>]"
      ]
     },
     "execution_count": 66,
     "metadata": {},
     "output_type": "execute_result"
    }
   ],
   "source": [
    "#corrb = 1.*np.array(corr)\n",
    "corr = []\n",
    "corrb = []\n",
    "\n",
    "p1t = abs(pfine[16])**2.0\n",
    "p2t = abs(pfine[18])**2.0\n",
    "p1b = abs(pfine[14])**2.0\n",
    "p2b = abs(pfine[20])**2.0\n",
    "\n",
    "\n",
    "for i in range(len(p1t)):\n",
    "    p2temp = np.roll(p2t, i)\n",
    "    b2temp = np.roll(p2b, i)\n",
    "    corr.append(np.sum(p1t*p2temp))\n",
    "    corrb.append(np.sum(p1b*b2temp))\n",
    "\n",
    "%matplotlib qt\n",
    "corr = np.array(corr)\n",
    "corrb = np.array(corrb)\n",
    "\n",
    "plt.plot(np.roll(corr, 1024))\n",
    "plt.plot(np.roll(corrb, 1024) * 50, 'r')\n"
   ]
  },
  {
   "cell_type": "code",
   "execution_count": 67,
   "metadata": {
    "collapsed": false
   },
   "outputs": [
    {
     "name": "stdout",
     "output_type": "stream",
     "text": [
      "(16, 257)\n"
     ]
    },
    {
     "data": {
      "text/plain": [
       "[<matplotlib.lines.Line2D at 0x7f0e59a76950>]"
      ]
     },
     "execution_count": 67,
     "metadata": {},
     "output_type": "execute_result"
    }
   ],
   "source": [
    "p1 = test[127:127+16]\n",
    "p2 = test[142:142+16]\n",
    "\n",
    "print(p1.shape)\n",
    "\n",
    "c = correlate_power(p1,p2,32*8,256*8)\n",
    "\n",
    "%matplotlib qt\n",
    "plt.plot(abs(c).sum(-1))\n",
    "#plt.plot(abs(p1).sum(-1))\n",
    "#plt.plot(abs(p2).sum(-1))"
   ]
  },
  {
   "cell_type": "code",
   "execution_count": 17,
   "metadata": {
    "collapsed": false
   },
   "outputs": [
    {
     "name": "stdout",
     "output_type": "stream",
     "text": [
      "['2015-10-18T23:21:58.347' '2015-10-18T23:27:23.667'\n",
      " '2015-10-18T23:41:53.277' '2015-10-18T23:46:10.046'\n",
      " '2015-10-18T23:49:17.214' '2015-10-18T23:50:30.066'\n",
      " '2015-10-18T23:55:38.899' '2015-10-19T00:17:47.415'\n",
      " '2015-10-19T00:18:03.294' '2015-10-19T00:22:00.962'\n",
      " '2015-10-19T00:22:00.962' '2015-10-19T00:22:09.794'\n",
      " '2015-10-19T00:35:34.934' '2015-10-19T00:35:39.688'\n",
      " '2015-10-19T00:36:52.101' '2015-10-19T00:38:03.367'\n",
      " '2015-10-19T00:42:01.609' '2015-10-19T00:47:13.915'\n",
      " '2015-10-19T00:50:40.974' '2015-10-19T00:54:59.880'\n",
      " '2015-10-19T00:58:18.308' '2015-10-19T01:17:00.441'\n",
      " '2015-10-19T01:22:21.849' '2015-10-19T01:23:57.220'\n",
      " '2015-10-19T01:35:58.654' '2015-10-19T01:49:09.702'\n",
      " '2015-10-19T02:02:36.764' '2015-10-19T02:11:32.378'\n",
      " '2015-10-19T02:16:27.626' '2015-10-19T02:29:55.531'\n",
      " '2015-10-19T02:30:20.444' '2015-10-19T02:32:25.818'\n",
      " '2015-10-19T02:35:26.143' '2015-10-19T02:44:06.081'\n",
      " '2015-10-19T02:50:01.673']\n",
      "0.0314788843045\n"
     ]
    }
   ],
   "source": [
    "T = Time(np.loadtxt('/home/ramain/packages/scint_analysis/EVN_crab/all7_sorted.txt',dtype='string')[:,0])\n",
    "SN = np.loadtxt('/home/ramain/packages/scint_analysis/EVN_crab/all7_sorted.txt', dtype='string')[:,1].astype('float')\n",
    "\n",
    "Tphase = T[SN > 20]\n",
    "print Tphase\n",
    "print mbest"
   ]
  },
  {
   "cell_type": "code",
   "execution_count": null,
   "metadata": {
    "collapsed": true
   },
   "outputs": [],
   "source": [
    "\"\"\"\n",
    "Select telescope list, and giant pulse time list \n",
    "\n",
    "calculate time offset for each pair\n",
    "\"\"\"\n",
    "\n",
    "tel1 = 'ef'\n",
    "tels = ['jb']\n",
    "#tels = ['jb','wb','hh','bd', 'sr', 'o8']\n",
    "\n",
    "tphase = 7.8125 # (ns per radian phase)\n",
    "tsamp = 62.5 # (ns per sample)\n",
    "\n",
    "\n",
    "toffset = []\n",
    "\n",
    "for t_gp in Tphase:\n",
    "    \n",
    "    p1 = np.load('GP%s/p%s.npy' % (tel1, t_gp))\n",
    "    switch = 0\n",
    "    \n",
    "    for tel in tels:\n",
    "\n",
    "        p2 = np.load('GP%s/p%s.npy' % (tel, t_gp))\n",
    "\n",
    "        \"\"\"\n",
    "        Shift timestreams to closest sample\n",
    "\n",
    "        De-channelize, fit for corr peak, then shift\n",
    "        \"\"\"\n",
    "\n",
    "        nchan = 32\n",
    "\n",
    "        p1d = dechannelize(p1)\n",
    "        p2d = dechannelize(p2)\n",
    "\n",
    "        corr = np.fft.irfft( (np.fft.rfft(p1d,axis=0) * np.conj(np.fft.rfft(p2d, axis=0))), axis=0)\n",
    "        sampdelay = np.argmax(abs(corr).sum(-1))\n",
    "        p2d = np.roll(p2d, sampdelay, axis=0)\n",
    "\n",
    "        p2 = channelize_ts(p2d, nchan)\n",
    "        p1 = rechannelize(p1, nchan)\n",
    "\n",
    "        \"\"\"\n",
    "        Do a quick grid search of the best fit parameters\n",
    "\n",
    "        Uses the median of deviations to minimize, less sensitive to ~2pi wrapping outliers\n",
    "        \"\"\"\n",
    "\n",
    "        p1R, p1L = stitch(p1)\n",
    "        p2R, p2L = stitch(p2)\n",
    "\n",
    "        if switch == 0:\n",
    "            pRsum = 1.*p1R\n",
    "            pincoh = abs(p1R)**2.0\n",
    "            switch = 1\n",
    "\n",
    "        corr = np.fft.ifft( (np.fft.fft(p1R,axis=0) * np.conj(np.fft.fft(p2R, axis=0))), axis=0)\n",
    "\n",
    "        data = np.angle(corr[0])\n",
    "        data[0:nchan] = np.angle(np.conj(corr[0,:nchan]))\n",
    "        data[2*nchan:3*nchan] = np.angle(np.conj(corr[0,2*nchan:3*nchan]))\n",
    "        data[4*nchan:5*nchan] = np.angle(np.conj(corr[0,4*nchan:5*nchan]))\n",
    "        data[6*nchan:7*nchan] = np.angle(np.conj(corr[0,6*nchan:7*nchan]))\n",
    "\n",
    "        brange = np.linspace(0,2*np.pi,100)\n",
    "        mrange = np.linspace(-np.pi,np.pi,100)\n",
    "        x = np.linspace(0,len(data), len(data))\n",
    "\n",
    "        minfit = 1e10\n",
    "        for b in brange:\n",
    "            for m in mrange:\n",
    "                model = phase(x, m, b)\n",
    "                mintemp = lsq(data, model)\n",
    "                if mintemp < minfit:\n",
    "                    minfit = mintemp\n",
    "                    mbest = m\n",
    "                    bbest = b\n",
    "        \n",
    "        toff = sampdelay*tsamp + mbest*tphase \n",
    "        toffset.append(toff)\n",
    "        \n",
    "        \"\"\"\n",
    "        Correct conjugates and sum incoherently\n",
    "        \"\"\"\n",
    "\n",
    "        pmodel = phase(x,mbest,bbest)\n",
    "        pmodel[0:nchan] *= -1\n",
    "        pmodel[2*nchan:3*nchan] *= -1\n",
    "        pmodel[4*nchan:5*nchan] *= -1\n",
    "        pmodel[6*nchan:7*nchan] *= -1\n",
    "\n",
    "        p2derot = p2R*np.exp(1j*pmodel)[np.newaxis,...]\n",
    "\n",
    "        pRsum += p2derot\n",
    "        pincoh += abs(p2R)**2.0\n",
    "\n",
    "    #plt.plot((abs(pRsum)**2.0).sum(-1))\n",
    "    #plt.plot(pincoh.sum(-1))"
   ]
  },
  {
   "cell_type": "code",
   "execution_count": 22,
   "metadata": {
    "collapsed": false
   },
   "outputs": [
    {
     "data": {
      "text/plain": [
       "[<matplotlib.lines.Line2D at 0x7f4cf9d29fd0>]"
      ]
     },
     "execution_count": 22,
     "metadata": {},
     "output_type": "execute_result"
    }
   ],
   "source": [
    "%matplotlib qt\n",
    "plt.plot(Tphase.unix-Tphase.unix[0], toffset)"
   ]
  },
  {
   "cell_type": "code",
   "execution_count": 3,
   "metadata": {
    "collapsed": false
   },
   "outputs": [
    {
     "data": {
      "text/plain": [
       "<matplotlib.text.Text at 0x7f29bfd90550>"
      ]
     },
     "execution_count": 3,
     "metadata": {},
     "output_type": "execute_result"
    },
    {
     "data": {
      "image/png": "[encoded data removed]",
      "text/plain": [
       "<matplotlib.figure.Figure at 0x7f29c362f690>"
      ]
     },
     "metadata": {},
     "output_type": "display_data"
    }
   ],
   "source": [
    "\"\"\"\n",
    "Load EVN pulse list, calculate phases\n",
    "\"\"\"\n",
    "\n",
    "T = Time(np.loadtxt('/home/ramain/packages/scint_analysis/EVN_crab/all7_sorted.txt',dtype='string')[:,0])\n",
    "SN = np.loadtxt('/home/ramain/packages/scint_analysis/EVN_crab/all7_sorted.txt', dtype='string')[:,1].astype('float')\n",
    "\n",
    "ef_polyco = Polyco('/home/ramain/packages/scint_analysis/EVN_crab/oct_polycob0531_eff.dat')\n",
    "jb_polyco = Polyco('/home/ramain/packages/scint_analysis/EVN_crab/oct_polycob0531_jb.dat')\n",
    "wb_polyco = Polyco('/home/ramain/packages/scint_analysis/EVN_crab/oct_polycob0531_wsrt.dat')\n",
    "#psr_polyco = Polyco('/home/ramain/Ephemerides/Crab-Old/polyco_new.dat')\n",
    "phase_pol = ef_polyco.phasepol(T[0])\n",
    "ef_phase = np.remainder(phase_pol(T.mjd), 1)\n",
    "\n",
    "phase_pol = jb_polyco.phasepol(T[0])\n",
    "jb_phase = np.remainder(phase_pol(T.mjd), 1)\n",
    "\n",
    "phase_pol = wb_polyco.phasepol(T[0])\n",
    "wb_phase = np.remainder(phase_pol(T.mjd), 1)\n",
    "\n",
    "\"\"\"\n",
    "Plot phase vs. Time\n",
    "\"\"\"\n",
    "\n",
    "%matplotlib inline\n",
    "\n",
    "plt.plot(ef_phase, T.unix-T[0].unix, 'bx', label='ef')\n",
    "plt.plot(jb_phase, T.unix-T[0].unix, 'rx', label='jb')\n",
    "\n",
    "plt.ylabel('time [s]')\n",
    "plt.xlabel('phase')\n",
    "\n",
    "plt.xlim(0.1,0.2)\n",
    "plt.legend()\n",
    "plt.title('EVN brightest GPs')"
   ]
  },
  {
   "cell_type": "code",
   "execution_count": 186,
   "metadata": {
    "collapsed": false
   },
   "outputs": [
    {
     "data": {
      "text/plain": [
       "<matplotlib.text.Text at 0x7f29a5b3df10>"
      ]
     },
     "execution_count": 186,
     "metadata": {},
     "output_type": "execute_result"
    }
   ],
   "source": [
    "%matplotlib qt\n",
    "pdiff = jb_phase-ef_phase\n",
    "Tdiff = T.unix-T[0].unix\n",
    "\n",
    "plt.plot(T.unix-T[0].unix, (jb_phase-ef_phase) )\n",
    "#plt.plot(T.unix-T[0].unix, (wb_phase-ef_phase) )\n",
    "plt.ylabel('phase difference')\n",
    "plt.xlabel('time [s]')"
   ]
  },
  {
   "cell_type": "code",
   "execution_count": 5,
   "metadata": {
    "collapsed": false
   },
   "outputs": [],
   "source": [
    "def read_baseband(t_gp, tel):\n",
    "\n",
    "    st = Time(np.loadtxt('starttimes.txt', dtype='string'))\n",
    "\n",
    "    for i in range(len(st)):\n",
    "        if t_gp.unix > st[i].unix:\n",
    "            findex = i+1\n",
    "\n",
    "    fn = 'ef_data/{0}/ek036a_{0}_no{1:04d}.m5a'.format(tel, findex)\n",
    "\n",
    "    size = 2 ** 20\n",
    "    sample_rate = 32 * u.MHz\n",
    "    dt1 = 1/sample_rate\n",
    "    thread_ids = [0, 4, 1, 5, 2, 6, 3, 7, 8, 12, 9, 13, 10, 14, 11, 15]\n",
    "    fedge = 1610.49 * u.MHz + ((np.linspace(0,15,16) % 8) // 2) * 32. * u.MHz\n",
    "    fref = fedge.mean() + sample_rate / 4\n",
    "    nchan = 512\n",
    "    # October DM from JB ephemeris (1e-2 is by eye correction)\n",
    "    dm = (56.7957 + 1e-2) * u.pc / u.cm**3\n",
    "    #dm = 0\n",
    "\n",
    "    class DispersionMeasure(u.Quantity):\n",
    "\n",
    "        dispersion_delay_constant = 4149. * u.s * u.MHz**2 * u.cm**3 / u.pc\n",
    "        _default_unit = u.pc / u.cm**3\n",
    "\n",
    "        def __new__(cls, dm, unit=None, dtype=None, copy=True):\n",
    "            if unit is None:\n",
    "                unit = getattr(dm, 'unit', cls._default_unit)\n",
    "            self = super(DispersionMeasure, cls).__new__(cls, dm, unit,\n",
    "                                                         dtype=dtype, copy=copy)\n",
    "            if not self.unit.is_equivalent(cls._default_unit):\n",
    "                raise u.UnitsError(\"Dispersion measures should have units of \"\n",
    "                                   \"pc/cm^3\")\n",
    "            return self\n",
    "\n",
    "        def __quantity_subclass__(self, unit):\n",
    "            if unit.is_equivalent(self._default_unit):\n",
    "                return DispersionMeasure, True\n",
    "            else:\n",
    "                return super(DispersionMeasure,\n",
    "                             self).__quantity_subclass__(unit)[0], False\n",
    "\n",
    "        def __call__(self, f, fref, kind='complex'):\n",
    "            d = self.dispersion_delay_constant * self\n",
    "            if kind == 'delay':\n",
    "                return d * (1./f**2 - 1./fref**2)\n",
    "            else:\n",
    "                dang = (d * f * (1./fref-1./f)**2) * u.cycle\n",
    "                if kind == 'phase':\n",
    "                    return dang\n",
    "                elif kind == 'complex':\n",
    "                    return np.exp(dang.to(u.rad).value * 1j)\n",
    "\n",
    "            raise ValueError(\"kind not one of 'delay', 'phase', or 'complex'\")\n",
    "\n",
    "    dm = DispersionMeasure(dm)\n",
    "\n",
    "    if tel == 'sr' or tel == 'mc':\n",
    "        fh = vdif.open(fn, mode='rs', sample_rate=sample_rate)\n",
    "    else:\n",
    "        fh = mark5b.open(fn, mode='rs', nchan=16,\n",
    "                        sample_rate=sample_rate, thread_ids=thread_ids, ref_mjd=57000)\n",
    "    offset_gp = ((t_gp - fh.tell(unit='time')).to(u.s).value *\n",
    "                 fh.frames_per_second * fh.samples_per_frame)\n",
    "    fh.seek(int(offset_gp) - size // 2)\n",
    "    d = fh.read(size)\n",
    "    if tel == 'sr' or tel == 't6' or tel =='tr':\n",
    "        d = np.roll(d, 8, axis=-1)\n",
    "    if tel == 'mc' or tel =='sr':\n",
    "        d = d[:,thread_ids]        \n",
    "    ft = np.fft.rfft(d, axis=0)\n",
    "    # Second half of IFs have Fedge at top, need to subtract frequencies, \n",
    "    # and not conjugate coherent phases\n",
    "    f = fedge + np.fft.rfftfreq(d.shape[0], dt1)[:, np.newaxis]\n",
    "    f[:,8:] = fedge[8:] - np.fft.rfftfreq(d.shape[0], dt1)[:, np.newaxis]\n",
    "    ft[:,:8] *= dm(f[:,:8], fref, kind='complex').conj()\n",
    "    ft[:,8:] *= dm(f[:,8:], fref, kind='complex')\n",
    "    d = np.fft.irfft(ft, axis=0)\n",
    "\n",
    "    # Channelize the data\n",
    "    dchan = np.fft.rfft(d.reshape(-1, 2*nchan, 16), axis=1)\n",
    "\n",
    "    return dchan"
   ]
  },
  {
   "cell_type": "code",
   "execution_count": 183,
   "metadata": {
    "collapsed": false
   },
   "outputs": [],
   "source": [
    "def shift_phase(p1,p2,nchan):\n",
    "\n",
    "    peak1 = np.argmax(abs(p1).sum(-1).sum(-1))\n",
    "    peak2 = np.argmax(abs(p2).sum(-1).sum(-1))\n",
    "    # Incoherent shift is beneficial\n",
    "    p2 = np.roll(p2, peak1-peak2, axis=0)\n",
    "    \n",
    "    p1d = dechannelize(p1[peak1-10:peak1+10])\n",
    "    p2d = dechannelize(p2[peak1-10:peak1+10])\n",
    "\n",
    "    ftcorr = (np.fft.rfft(p1d,axis=0) * np.conj(np.fft.rfft(p2d, axis=0)))\n",
    "\n",
    "    corr = np.fft.irfft(ftcorr, axis=0)\n",
    "    \n",
    "    plt.subplot(411)\n",
    "    plt.plot(abs(corr).sum(-1))\n",
    "    plt.xlabel('lag [samples]')\n",
    "    plt.ylabel('visibility |EfxJb*|')\n",
    "    \n",
    "    sampdelay = np.argmax(abs(corr).sum(-1))\n",
    "    len_ts = p2d.shape[0]    \n",
    "    p2d = np.roll(p2d, sampdelay, axis=0)\n",
    "    if len_ts-sampdelay < sampdelay:\n",
    "        sampdelay = -(len_ts - sampdelay)\n",
    "    \n",
    "    p2 = channelize_ts(p2d, nchan)\n",
    "    p1 = rechannelize(p1[peak1-10:peak1+10], nchan)\n",
    "\n",
    "    \n",
    "    \"\"\"\n",
    "    Do a quick grid search of the best fit parameters\n",
    "\n",
    "    Uses the median of deviations to minimize, less sensitive to ~2pi wrapping outliers\n",
    "    \"\"\"\n",
    "\n",
    "    p1R, p1L = stitch(p1)\n",
    "    p2R, p2L = stitch(p2)\n",
    "\n",
    "    peak = np.argmax(abs(p1R).sum(-1))\n",
    "    p1R = p1R[peak-50:peak+50]\n",
    "    p2R = p2R[peak-50:peak+50]\n",
    "\n",
    "    mask = np.linspace(0,8,8)*nchan\n",
    "\n",
    "    corr = np.fft.ifft( (np.fft.fft(p1R,axis=0) * np.conj(np.fft.fft(p2R, axis=0))), axis=0)\n",
    "    \n",
    "    data = np.angle(corr[0])\n",
    "    data[0:nchan] = np.angle(np.conj(corr[0,:nchan]))\n",
    "    data[2*nchan:3*nchan] = np.angle(np.conj(corr[0,2*nchan:3*nchan]))\n",
    "    data[4*nchan:5*nchan] = np.angle(np.conj(corr[0,4*nchan:5*nchan]))\n",
    "    data[6*nchan:7*nchan] = np.angle(np.conj(corr[0,6*nchan:7*nchan]))\n",
    "\n",
    "    brange = np.linspace(0,2*np.pi,100)\n",
    "    mrange = np.linspace(-np.pi,np.pi,500)\n",
    "    x = np.linspace(0,len(data), len(data))\n",
    "\n",
    "    #data = np.delete(data, mask)\n",
    "    #x = np.delete(x, mask)\n",
    "\n",
    "    minfit = 1e10\n",
    "    for b in brange:\n",
    "        for m in mrange:\n",
    "            model = phase(x, m, b)\n",
    "            mintemp = lsq(data, model)\n",
    "            if mintemp < minfit:\n",
    "                minfit = mintemp\n",
    "                mbest = m\n",
    "                bbest = b\n",
    "\n",
    "    plt.subplot(412)\n",
    "    plt.plot(x, data, 'bx')\n",
    "    plt.plot(x, phase(x, mbest, bbest), 'r')\n",
    "    plt.xlabel('frequency [bins]')\n",
    "    plt.ylabel('phase [radians]')\n",
    "    \n",
    "    plt.subplot(413)\n",
    "    plt.plot(x, data-phase(x,mbest,bbest), 'kx')\n",
    "    plt.plot(x,0*x, 'r--')\n",
    "    plt.ylim(-2*np.pi, 2*np.pi)\n",
    "    \n",
    "    plt.xlabel('frequency [bins]')\n",
    "    plt.ylabel('residuals [radians]')\n",
    "    \n",
    "    \"\"\"\n",
    "    Correct conjugates and sum incoherently\n",
    "    \"\"\"\n",
    "\n",
    "    pmodel = phase(x,mbest,bbest)\n",
    "    pmodel[0:nchan] *= -1\n",
    "    pmodel[2*nchan:3*nchan] *= -1\n",
    "    pmodel[4*nchan:5*nchan] *= -1\n",
    "    pmodel[6*nchan:7*nchan] *= -1\n",
    "\n",
    "    p2derot = p2R*np.exp(1j*pmodel)[np.newaxis,...]\n",
    "\n",
    "    pRsum = abs(p1R + p2derot)**2.0\n",
    "    pincoh = abs(p1R)**2.0 + abs(p2R)**2.0\n",
    "    \n",
    "    plt.subplot(414)\n",
    "    plt.plot(pRsum.sum(-1), label='coherent')\n",
    "    plt.plot(pincoh.sum(-1), label='incoherent')\n",
    "    plt.legend()\n",
    "    plt.ylabel('power [arbitrons]')\n",
    "    plt.xlabel('time [2 microsecond bins]')\n",
    "\n",
    "    return p1R, p2derot, peak2-peak1, mbest, sampdelay"
   ]
  },
  {
   "cell_type": "code",
   "execution_count": 184,
   "metadata": {
    "collapsed": false
   },
   "outputs": [],
   "source": [
    "%matplotlib qt\n",
    "#t1_gp = Time('2015-10-19T00:17:47.415')\n",
    "#t2_gp = Time('2015-10-19T00:18:03.294')\n",
    "t1_gp = Time('2015-10-19T02:16:08.848')\n",
    "t2_gp = Time('2015-10-19T02:35:26.143')\n",
    "t1_gp = Time('2015-10-19T00:17:47.415')\n",
    "\n",
    "p1_ef = read_baseband(t1_gp, 'ef')\n",
    "p2_ef = read_baseband(t2_gp, 'ef')\n",
    "p1_jb = read_baseband(t1_gp, 'jb')\n",
    "p2_jb = read_baseband(t2_gp, 'jb')\n",
    "\n",
    "\n",
    "#plt.subplot(211)\n",
    "#plt.plot((abs(p1_ef)**2.0).sum(-1).sum(-1), label='ef')\n",
    "#plt.plot((abs(p1_jb)**2.0).sum(-1).sum(-1), label='jb')\n",
    "#plt.ylabel('power [arbitrons]')\n",
    "#plt.legend()\n",
    "\n",
    "\n",
    "#plt.subplot(212)\n",
    "\n",
    "#peak1 = np.argmax((abs(p1_ef)**2.0).sum(-1).sum(-1))\n",
    "#peak2 = np.argmax((abs(p1_jb)**2.0).sum(-1).sum(-1))\n",
    "\n",
    "#plt.plot((abs(p1_ef)**2.0).sum(-1).sum(-1), label='ef')\n",
    "#plt.plot(np.roll((abs(p1_jb)**2.0).sum(-1).sum(-1), peak1-peak2), label='jb')\n",
    "\n",
    "#plt.xlabel('time [32 microsecond bins]')\n",
    "\n",
    "\n",
    "P1, P2, dpeak1, mbest1, sampdelay1= shift_phase(p1_ef, p1_jb, 32)\n",
    "#P1, P2, dpeak2, mbest2, sampdelay2= shift_phase(p2_ef, p2_jb, 32)\n",
    "\n",
    "#plt.plot(abs(p_ef).sum(-1).sum(-1))\n",
    "#plt.plot(abs(p_jb).sum(-1).sum(-1))"
   ]
  },
  {
   "cell_type": "code",
   "execution_count": 78,
   "metadata": {
    "collapsed": false
   },
   "outputs": [
    {
     "name": "stdout",
     "output_type": "stream",
     "text": [
      "51 -629\n"
     ]
    }
   ],
   "source": [
    "print dpeak1, sampdelay1"
   ]
  },
  {
   "cell_type": "code",
   "execution_count": 8,
   "metadata": {
    "collapsed": false
   },
   "outputs": [],
   "source": [
    "f0 = 29.6607727973\n",
    "P = 1./ f0\n",
    "\n",
    "tsamp = 31.25*u.ns\n",
    "\n",
    "TDpeak1 = dpeak1*1024*tsamp\n",
    "TDsamp1 = -sampdelay1*tsamp\n",
    "TDphase1 = mbest1*257 / (128*u.MHz * 2*np.pi)\n",
    "\n",
    "TDpeak2 = dpeak2*1024*tsamp\n",
    "TDsamp2 = -sampdelay2*tsamp\n",
    "TDphase2 = mbest2*257 / (128*u.MHz * 2*np.pi)\n",
    "\n",
    "to1 = TDpeak1 + TDsamp1 + TDphase1\n",
    "to2 = TDpeak2 + TDsamp2 + TDphase2\n"
   ]
  },
  {
   "cell_type": "code",
   "execution_count": 9,
   "metadata": {
    "collapsed": false
   },
   "outputs": [
    {
     "name": "stdout",
     "output_type": "stream",
     "text": [
      "-137976.797345 ns\n",
      "[ 0.02029827]\n",
      "[-137876.35977898]\n"
     ]
    }
   ],
   "source": [
    "dTmeasured = to2 - to1\n",
    "print(dTmeasured)\n",
    "\n",
    "print(pdiff[T==t1_gp])\n",
    "\n",
    "phase1 = pdiff[T==t1_gp]\n",
    "phase2 = pdiff[T==t2_gp]\n",
    "\n",
    "dTpredicted = (phase1-phase2)*P/1e-9\n",
    "\n",
    "print dTpredicted"
   ]
  },
  {
   "cell_type": "code",
   "execution_count": 388,
   "metadata": {
    "collapsed": false
   },
   "outputs": [
    {
     "data": {
      "text/plain": [
       "[<matplotlib.lines.Line2D at 0x7fc9d043c7d0>]"
      ]
     },
     "execution_count": 388,
     "metadata": {},
     "output_type": "execute_result"
    },
    {
     "data": {
      "image/png": "[encoded data removed]",
      "text/plain": [
       "<matplotlib.figure.Figure at 0x7fc9d7d80a90>"
      ]
     },
     "metadata": {},
     "output_type": "display_data"
    }
   ],
   "source": [
    "plt.plot(tau,dtau, 'bx')"
   ]
  },
  {
   "cell_type": "code",
   "execution_count": 10,
   "metadata": {
    "collapsed": false
   },
   "outputs": [
    {
     "name": "stdout",
     "output_type": "stream",
     "text": [
      "step 0\n",
      "step 1\n",
      "step 2\n",
      "step 3\n",
      "step 4\n",
      "step 5\n",
      "step 6\n",
      "step 7\n",
      "step 8\n",
      "step 9\n",
      "step 10\n",
      "step 11\n",
      "step 12\n",
      "step 13\n",
      "step 14\n",
      "step 15\n",
      "step 16\n",
      "step 17\n",
      "step 18\n",
      "step 19\n",
      "step 20\n",
      "step 21\n",
      "step 22\n",
      "step 23\n",
      "step 24\n",
      "step 25\n",
      "step 26\n",
      "step 27\n",
      "step 28\n",
      "step 29\n",
      "step 30\n",
      "step 31\n",
      "step 32\n",
      "step 33\n"
     ]
    }
   ],
   "source": [
    "\"\"\"\n",
    "Find time offsets for all bright enough pulse pairs\n",
    "\n",
    "Try to see if there is a systematic form in residuals\n",
    "\"\"\"\n",
    "\n",
    "GPlist = np.loadtxt('gplist_phase_SN20.txt', dtype='string')\n",
    "Tlist = Time(GPlist[:,0])\n",
    "\n",
    "n = len(Tlist)\n",
    "dTlist = np.zeros(n)\n",
    "tau = np.zeros(n)\n",
    "dtau = np.zeros(n)\n",
    "\n",
    "nref_pulse = 7\n",
    "\n",
    "t1_gp = Tlist[nref_pulse]\n",
    "\n",
    "p1_ef = read_baseband(t1_gp, 'ef')\n",
    "p1_jb = read_baseband(t1_gp, 'jb')\n",
    "\n",
    "for i in range(n):\n",
    "\n",
    "    t2_gp = Tlist[i]\n",
    "    print(\"step %s\" % (i))\n",
    "    if i != nref_pulse:\n",
    "        p2_ef = read_baseband(t2_gp, 'ef')\n",
    "        p2_jb = read_baseband(t2_gp, 'jb')\n",
    "        P1, P2, dpeak1, mbest1, sampdelay1= shift_phase(p1_ef, p1_jb, 32)\n",
    "        P1, P2, dpeak2, mbest2, sampdelay2= shift_phase(p2_ef, p2_jb, 32)\n",
    "            \n",
    "        TDpeak1 = dpeak1*1024*tsamp\n",
    "        TDsamp1 = -sampdelay1*tsamp\n",
    "        TDphase1 = mbest1*257 / (128*u.MHz * 2*np.pi)\n",
    "\n",
    "        TDpeak2 = dpeak2*1024*tsamp\n",
    "        TDsamp2 = -sampdelay2*tsamp\n",
    "        TDphase2 = mbest2*257 / (128*u.MHz * 2*np.pi)\n",
    "\n",
    "        to1 = TDpeak1 + TDsamp1 + TDphase1\n",
    "        to2 = TDpeak2 + TDsamp2 + TDphase2\n",
    "        dTmeasured = to2 - to1\n",
    "\n",
    "        phase1 = pdiff[T==t1_gp][0]\n",
    "        phase2 = pdiff[T==t2_gp][0]\n",
    "        dTpredicted = (phase1-phase2)*P/1e-9\n",
    "            \n",
    "        tau[i] = t2_gp.unix - t1_gp.unix\n",
    "        dtau[i] = dTpredicted - dTmeasured.value"
   ]
  },
  {
   "cell_type": "code",
   "execution_count": 11,
   "metadata": {
    "collapsed": false
   },
   "outputs": [
    {
     "data": {
      "text/plain": [
       "[<matplotlib.lines.Line2D at 0x7f29bfab9250>]"
      ]
     },
     "execution_count": 11,
     "metadata": {},
     "output_type": "execute_result"
    },
    {
     "data": {
      "image/png": "[encoded data removed]",
      "text/plain": [
       "<matplotlib.figure.Figure at 0x7f29bfbd0b50>"
      ]
     },
     "metadata": {},
     "output_type": "display_data"
    }
   ],
   "source": [
    "plt.xlabel('tau [s]')\n",
    "plt.ylabel('dtau [ns]')\n",
    "plt.plot(tau,dtau, 'bx')"
   ]
  },
  {
   "cell_type": "code",
   "execution_count": 13,
   "metadata": {
    "collapsed": false
   },
   "outputs": [
    {
     "name": "stdout",
     "output_type": "stream",
     "text": [
      "[ -1.99518122e-36   5.58105623e-32  -4.65181036e-28   3.29722892e-25\n",
      "   1.25684337e-20  -3.63316249e-17  -9.81810789e-14   3.81993865e-10\n",
      "  -2.29501541e-07  -2.09797157e-02   8.50503427e-01]\n"
     ]
    },
    {
     "data": {
      "text/plain": [
       "(-50, 50)"
      ]
     },
     "execution_count": 13,
     "metadata": {},
     "output_type": "execute_result"
    },
    {
     "data": {
      "image/png": "[encoded data removed]",
      "text/plain": [
       "<matplotlib.figure.Figure at 0x7f29bfacd950>"
      ]
     },
     "metadata": {},
     "output_type": "display_data"
    }
   ],
   "source": [
    "mask = [9,10,16,21,22,24]\n",
    "\n",
    "tau_fit = np.delete(tau, mask)\n",
    "dtau_fit = np.delete(dtau, mask)\n",
    "\n",
    "#tau_fit = 1.*tau\n",
    "#dtau_fit = 1.*dtau\n",
    "\n",
    "z = np.polyfit(tau_fit, dtau_fit, 10)\n",
    "phase_fit = np.poly1d(z)\n",
    "print(z)\n",
    "\n",
    "plt.subplot(211)\n",
    "plt.xlabel('tau [s]')\n",
    "plt.ylabel('dtau [ns]')\n",
    "plt.plot(tau,dtau, 'bx')\n",
    "plt.plot(tau, phase_fit(tau), 'k')\n",
    "\n",
    "plt.subplot(212)\n",
    "plt.xlabel('tau [s]')\n",
    "plt.ylabel('residuals [ns]')\n",
    "plt.plot(tau, dtau-phase_fit(tau), 'kx')\n",
    "plt.axhline(31.25)\n",
    "plt.axhline(-31.25)\n",
    "plt.ylim(-50,50)"
   ]
  },
  {
   "cell_type": "code",
   "execution_count": 187,
   "metadata": {
    "collapsed": false
   },
   "outputs": [
    {
     "name": "stdout",
     "output_type": "stream",
     "text": [
      "-463526.761673\n",
      "(<Quantity 1757412.285508517 ns>, <Quantity 1760000.0 ns>, <Quantity -2593.75 ns>, <Quantity 0.006035508517034077 1 / MHz>)\n",
      "(-1294005.4072268945, 1757412.285508517, -463526.76167259226, -119.88339096982538)\n",
      "(-41.0, -575.0, -25.842773105483502)\n"
     ]
    },
    {
     "data": {
      "image/png": "[encoded data removed]",
      "text/plain": [
       "<matplotlib.figure.Figure at 0x7f29a59c4390>"
      ]
     },
     "metadata": {},
     "output_type": "display_data"
    }
   ],
   "source": [
    "\"\"\"\n",
    "Test phasing on pulse not in list:\n",
    "\"\"\"\n",
    "%matplotlib inline\n",
    "\n",
    "t_ref = Time(\"2015-10-19T00:17:47.415\")\n",
    "# A rather unremarkable S/N = 12 pulse\n",
    "#t_gp = Time(\"2015-10-19T00:23:56.897\")\n",
    "t_gp = Time(\"2015-10-19T01:44:17.690\")\n",
    "t_gp = Time(\"2015-10-19T01:55:06.340\")\n",
    "\n",
    "phase1 = pdiff[T==t_ref][0]\n",
    "phase2 = pdiff[T==t_gp][0]\n",
    "dTpredicted = (phase1-phase2)*P/1e-9\n",
    "\n",
    "print(dTpredicted)\n",
    "\n",
    "dTresid = (t_gp.unix - t_ref.unix)\n",
    "dtauresid = phase_fit(dTresid)\n",
    "\n",
    "\"\"\"\n",
    "Find reference value's time offset\n",
    "\"\"\"\n",
    "\n",
    "p_ef = read_baseband(t_ref, 'ef')\n",
    "p_jb = read_baseband(t_ref, 'jb')\n",
    "\n",
    "P1, P2, dpeak, mbest, sampdelay = shift_phase(p_ef, p_jb, 32)\n",
    "            \n",
    "TDpeak = dpeak*1024*tsamp\n",
    "TDsamp = -sampdelay*tsamp\n",
    "TDphase = mbest*257 / (128*u.MHz * 2*np.pi)\n",
    "\n",
    "t0 = TDpeak + TDsamp + TDphase\n",
    "\n",
    "print(t0, TDpeak, TDsamp, TDphase)\n",
    "\n",
    "dT_total = -t0.value - dTpredicted + dtauresid\n",
    "#dT_total = - dTpredicted + dtauresid\n",
    "\n",
    "print(dT_total, t0.value, dTpredicted, dtauresid)\n",
    "\n",
    "incoh_shift = divmod(dT_total , (1024*tsamp.value))[0]\n",
    "incoh_resid = divmod(dT_total , (1024*tsamp.value))[1]\n",
    "\n",
    "shifts = divmod(abs(incoh_resid),tsamp.value)\n",
    "\n",
    "nsamp_shift, resid_shift = shifts[0]*np.sign(dT_total), shifts[1]*np.sign(dT_total)\n",
    "print(incoh_shift, nsamp_shift, resid_shift)"
   ]
  },
  {
   "cell_type": "code",
   "execution_count": 196,
   "metadata": {
    "collapsed": false
   },
   "outputs": [
    {
     "name": "stdout",
     "output_type": "stream",
     "text": [
      "('m', -0.080871561599078462)\n"
     ]
    },
    {
     "data": {
      "text/plain": [
       "<matplotlib.text.Text at 0x7f29a9ac4590>"
      ]
     },
     "execution_count": 196,
     "metadata": {},
     "output_type": "execute_result"
    }
   ],
   "source": [
    "p_ef = read_baseband(t_gp, 'ef')\n",
    "p_jb = read_baseband(t_gp, 'jb')\n",
    "\n",
    "p_jb = np.roll(p_jb, int(incoh_shift), axis=0)\n",
    "\n",
    "p1d = dechannelize(p_ef)\n",
    "p2d = dechannelize(p_jb)\n",
    "\n",
    "nchan = 32\n",
    "\n",
    "p2d = np.roll(p2d, -int(nsamp_shift), axis=0)\n",
    "p2 = channelize_ts(p2d, nchan)\n",
    "p1 = channelize_ts(p1d, nchan)\n",
    "\n",
    "p1R, p1L = stitch(p1)\n",
    "p2R, p2L = stitch(p2)\n",
    "\n",
    "x = np.linspace(0,p1R.shape[1], p1R.shape[1])\n",
    "\n",
    "m = resid_shift * (128 * 2*np.pi) / 257 / 1000.\n",
    "print(\"m\", m)\n",
    "\n",
    "pmodel = phase(x,m,-2.5)\n",
    "pmodel[0:nchan] *= -1\n",
    "pmodel[2*nchan:3*nchan] *= -1\n",
    "pmodel[4*nchan:5*nchan] *= -1\n",
    "pmodel[6*nchan:7*nchan] *= -1\n",
    "\n",
    "p2derot = p2R*np.exp(1j*pmodel)[np.newaxis,...]\n",
    "\n",
    "pRsum = abs(p1R + p2derot)**2.0\n",
    "pincoh = abs(p1R)**2.0 + abs(p2R)**2.0\n",
    "\n",
    "%matplotlib qt\n",
    "plt.plot((abs(p1R)**2.0).sum(-1), label='Effelsberg')\n",
    "#plt.plot((abs(p2R)**2.0).sum(-1))\n",
    "plt.plot((abs(p2derot)**2.0).sum(-1), label='Jodrell')\n",
    "\n",
    "plt.plot(pRsum.sum(-1), label='Coherent Sum')\n",
    "plt.plot(pincoh.sum(-1), label='Incoherent Sum')\n",
    "plt.legend()\n",
    "\n",
    "plt.xlim(7400,7500)\n",
    "plt.ylabel('Power [arbitrons]')\n",
    "plt.xlabel('Time [2 microsecond bins]')"
   ]
  },
  {
   "cell_type": "code",
   "execution_count": 165,
   "metadata": {
    "collapsed": false
   },
   "outputs": [
    {
     "data": {
      "text/plain": [
       "[<matplotlib.lines.Line2D at 0x7f29bd474790>]"
      ]
     },
     "execution_count": 165,
     "metadata": {},
     "output_type": "execute_result"
    }
   ],
   "source": [
    "plt.plot(x, phase(x,m,0))"
   ]
  },
  {
   "cell_type": "code",
   "execution_count": null,
   "metadata": {
    "collapsed": true
   },
   "outputs": [],
   "source": []
  }
 ],
 "metadata": {
  "kernelspec": {
   "display_name": "Python 2",
   "language": "python",
   "name": "python2"
  },
  "language_info": {
   "codemirror_mode": {
    "name": "ipython",
    "version": 2
   },
   "file_extension": ".py",
   "mimetype": "text/x-python",
   "name": "python",
   "nbconvert_exporter": "python",
   "pygments_lexer": "ipython2",
   "version": "2.7.6"
  }
 },
 "nbformat": 4,
 "nbformat_minor": 0
}
