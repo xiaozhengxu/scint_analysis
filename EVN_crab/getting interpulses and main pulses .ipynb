{
 "cells": [
  {
   "cell_type": "code",
   "execution_count": 1,
   "metadata": {
    "collapsed": false
   },
   "outputs": [],
   "source": [
    "with open('good_pulses.txt', 'r') as f:\n",
    "    text = f.read()\n",
    "    text_lines = text.split('\\n')[:-1]\n",
    "\n",
    "interpulses = []\n",
    "mainpulses = []\n",
    "    \n",
    "for i,line in enumerate(text_lines):\n",
    "    strings = line.split()\n",
    "    if 0.07<float(strings[2])<0.15:\n",
    "        mainpulses.append(strings[0])\n",
    "    if 0.47<float(strings[2])<0.58:\n",
    "        interpulses.append(strings[0])\n",
    "        \n",
    "with open('SN_7interpulses.txt','w') as f:\n",
    "    for a in interpulses:\n",
    "        f.write(a+'\\n')\n",
    "with open('SN_7mainpulses.txt','w') as f:\n",
    "    for b in mainpulses:\n",
    "        f.write(b+'\\n')"
   ]
  },
  {
   "cell_type": "code",
   "execution_count": 7,
   "metadata": {
    "collapsed": false
   },
   "outputs": [],
   "source": [
    "interpulsesa = set(interpulses)"
   ]
  },
  {
   "cell_type": "code",
   "execution_count": 8,
   "metadata": {
    "collapsed": false
   },
   "outputs": [
    {
     "data": {
      "text/plain": [
       "49"
      ]
     },
     "execution_count": 8,
     "metadata": {},
     "output_type": "execute_result"
    }
   ],
   "source": [
    "len(interpulsesa)"
   ]
  }
 ],
 "metadata": {
  "kernelspec": {
   "display_name": "Python 2",
   "language": "python",
   "name": "python2"
  },
  "language_info": {
   "codemirror_mode": {
    "name": "ipython",
    "version": 2
   },
   "file_extension": ".py",
   "mimetype": "text/x-python",
   "name": "python",
   "nbconvert_exporter": "python",
   "pygments_lexer": "ipython2",
   "version": "2.7.10"
  }
 },
 "nbformat": 4,
 "nbformat_minor": 0
}
